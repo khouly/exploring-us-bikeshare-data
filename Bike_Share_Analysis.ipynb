{
 "cells": [
  {
   "cell_type": "markdown",
   "metadata": {},
   "source": [
    "# Exploratory analysis on 2016 US bike-share data\n",
    "\n",
    "## Table of Contents\n",
    "- [Introduction](#intro)\n",
    "- [Posing Initial Questions](#pose_questions)\n",
    "- [Data Collection and Wrangling](#wrangling)\n",
    "  - [Condensing the Trip Data](#condensing)\n",
    "- [Exploratory Data Analysis](#eda)\n",
    "  - [Statistics](#statistics)\n",
    "  - [Visualizations](#visualizations)\n",
    "- [Future Enhancments](#future_enhancments)\n",
    "\n",
    "<a id='intro'></a>\n",
    "## Introduction\n",
    "\n",
    "Over the past decade, bicycle-sharing systems have been growing in number and popularity in cities across the world. Bicycle-sharing systems allow users to rent bicycles for short trips, typically 30 minutes or less. Thanks to the rise in information technologies, it is easy for a user of the system to access a dock within the system to unlock or return bicycles. These technologies also provide a wealth of data that can be used to explore how these bike-sharing systems are used.\n",
    "\n",
    "In this project, I will perform an exploratory analysis on data provided by [Motivate](https://www.motivateco.com/), a bike-share system provider for many major cities in the United States. I will compare the system usage between three large cities: New York City, Chicago, and Washington, DC. And I will also try to find out if there are any differences within each system for those users that are registered, regular users and those users that are short-term, casual users."
   ]
  },
  {
   "cell_type": "markdown",
   "metadata": {},
   "source": [
    "<a id='pose_questions'></a>\n",
    "## Posing Initial Questions\n",
    "\n",
    "Before looking at the data, I started by asking a few questions that I might want to understand about the bike-share data. \n",
    "\n",
    "Consider, for example, if you were working for Motivate. What kinds of information would you want to know about in order to make smarter business decisions? If you were a user of the bike-share service, what factors might influence how you would want to use the service?\n",
    "\n",
    "What is the average trip duration in each city?\n",
    "What are the average distances between different docks?\n",
    "\n",
    "1. Which city has the highest number of trips? \n",
    "2. Which city has the highest proportion of trips made by subscribers? \n",
    "3. Which city has the highest proportion of trips made by short-term customers?\n",
    "4. What is the average trip length for each city?\n",
    "5. What proportion of rides made in each city are longer than 30 minutes?"
   ]
  },
  {
   "cell_type": "markdown",
   "metadata": {},
   "source": [
    "<a id='wrangling'></a>\n",
    "## Data Collection and Wrangling\n",
    "\n",
    "Now I'll collect and explore our data. In this project, we will focus on the record of individual trips taken in 2016 from our selected cities: New York City, Chicago, and Washington, DC. Each of these cities has a CSV file in the `/data/` folder, each file has a random 2% sample of the original data is taken to make the exploration more manageable.\n",
    "\n",
    "However, there is still a lot of data to investigate, so I'll start off by looking at one entry from each of the cities we're going to analyze."
   ]
  },
  {
   "cell_type": "code",
   "execution_count": 1,
   "metadata": {},
   "outputs": [],
   "source": [
    "# Import all necessary packages and functions\n",
    "import csv # Read and write csv files\n",
    "from datetime import datetime # Operations to parse dates\n",
    "from pprint import pprint # Use to print data structures like dictionaries in\n",
    "                          # a nicer way than the base print function\n",
    "# import pandas as pd # For storing and manipulating data"
   ]
  },
  {
   "cell_type": "code",
   "execution_count": 2,
   "metadata": {},
   "outputs": [
    {
     "name": "stdout",
     "output_type": "stream",
     "text": [
      "\n",
      "City: NYC\n",
      "OrderedDict([('tripduration', '839'),\n",
      "             ('starttime', '1/1/2016 00:09:55'),\n",
      "             ('stoptime', '1/1/2016 00:23:54'),\n",
      "             ('start station id', '532'),\n",
      "             ('start station name', 'S 5 Pl & S 4 St'),\n",
      "             ('start station latitude', '40.710451'),\n",
      "             ('start station longitude', '-73.960876'),\n",
      "             ('end station id', '401'),\n",
      "             ('end station name', 'Allen St & Rivington St'),\n",
      "             ('end station latitude', '40.72019576'),\n",
      "             ('end station longitude', '-73.98997825'),\n",
      "             ('bikeid', '17109'),\n",
      "             ('usertype', 'Customer'),\n",
      "             ('birth year', ''),\n",
      "             ('gender', '0')])\n",
      "\n",
      "City: Chicago\n",
      "OrderedDict([('trip_id', '9080545'),\n",
      "             ('starttime', '3/31/2016 23:30'),\n",
      "             ('stoptime', '3/31/2016 23:46'),\n",
      "             ('bikeid', '2295'),\n",
      "             ('tripduration', '926'),\n",
      "             ('from_station_id', '156'),\n",
      "             ('from_station_name', 'Clark St & Wellington Ave'),\n",
      "             ('to_station_id', '166'),\n",
      "             ('to_station_name', 'Ashland Ave & Wrightwood Ave'),\n",
      "             ('usertype', 'Subscriber'),\n",
      "             ('gender', 'Male'),\n",
      "             ('birthyear', '1990')])\n",
      "\n",
      "City: Washington\n",
      "OrderedDict([('Duration (ms)', '427387'),\n",
      "             ('Start date', '3/31/2016 22:57'),\n",
      "             ('End date', '3/31/2016 23:04'),\n",
      "             ('Start station number', '31602'),\n",
      "             ('Start station', 'Park Rd & Holmead Pl NW'),\n",
      "             ('End station number', '31207'),\n",
      "             ('End station', 'Georgia Ave and Fairmont St NW'),\n",
      "             ('Bike number', 'W20842'),\n",
      "             ('Member Type', 'Registered')])\n"
     ]
    }
   ],
   "source": [
    "def print_first_point(filename):\n",
    "    \"\"\"\n",
    "    This function prints and returns the first data point (second row) from\n",
    "    a csv file that includes a header row.\n",
    "    \"\"\"\n",
    "    # Print city name for reference\n",
    "    city = filename.split('-')[0].split('/')[-1]\n",
    "    print('\\nCity: {}'.format(city))\n",
    "    \n",
    "    with open(filename, 'r') as f_in:\n",
    "        # Use the csv library to set up a DictReader object\n",
    "        trip_reader = csv.DictReader(f_in)\n",
    "\n",
    "        # Use the next function on the DictReader object to read the first trip\n",
    "        first_trip = next(trip_reader)\n",
    "        \n",
    "        # Use the pprint library to print the first trip\n",
    "        pprint(first_trip)\n",
    "        \n",
    "    # Output city name and first trip for later testing\n",
    "    return (city, first_trip)\n",
    "\n",
    "# List of files for each city\n",
    "data_files = ['./data/NYC-CitiBike-2016.csv',\n",
    "              './data/Chicago-Divvy-2016.csv',\n",
    "              './data/Washington-CapitalBikeshare-2016.csv',]\n",
    "\n",
    "# Print the first trip from each file, store in dictionary\n",
    "example_trips = {}\n",
    "for data_file in data_files:\n",
    "    city, first_trip = print_first_point(data_file)\n",
    "    example_trips[city] = first_trip"
   ]
  },
  {
   "cell_type": "markdown",
   "metadata": {},
   "source": [
    "When you set up a `DictReader` object, the first row of the data file is normally interpreted as column names. Every other row in the data file will use those column names as keys, as a dictionary is generated for each row.\n",
    "\n",
    "This will be useful since we can refer to quantities by an easily-understandable label instead of just a numeric index. For example, if we have a trip stored in the variable `row`, then we would rather get the trip duration from `row['duration']` instead of `row[0]`.\n",
    "\n",
    "<a id='condensing'></a>\n",
    "### Condensing the Trip Data\n",
    "\n",
    "It is observable from the above printout that each city provides different information. Even where the information is the same, the column names and formats are sometimes different. To make things as simple as possible when we get to the actual exploration, we should trim and clean the data. Cleaning the data makes sure that the data formats across the cities are consistent, while trimming focuses only on the parts of the data we are most interested in to make the exploration easier to work with.\n",
    "\n",
    "I will generate new data files with five values of interest for each trip: trip duration, starting month, starting hour, day of the week, and user type. Each of these may require additional wrangling depending on the city:\n",
    "\n",
    "- **Duration**: This has been given to us in seconds (New York, Chicago) or milliseconds (Washington). A more natural unit of analysis will be if all the trip durations are given in terms of minutes.\n",
    "- **Month**, **Hour**, **Day of Week**: Ridership volume is likely to change based on the season, time of day, and whether it is a weekday or weekend. I'll use the start time of the trip to obtain these values. The New York City data includes the seconds in their timestamps, while Washington and Chicago do not. I'll be using the [`datetime`](https://docs.python.org/3/library/datetime.html) package to make the needed conversions.\n",
    "- **User Type**: It is possible that users who are subscribed to a bike-share system will have different patterns of use compared to users who only have temporary passes. Washington divides its users into two types: 'Registered' for users with annual, monthly, and other longer-term subscriptions, and 'Casual', for users with 24-hour, 3-day, and other short-term passes. The New York and Chicago data uses 'Subscriber' and 'Customer' for these groups, respectively. For consistency, you will convert the Washington labels to match the other two.\n",
    "\n",
    "\n",
    "I'll write some helper functions in the code cells below to address each of the cleaning tasks described above."
   ]
  },
  {
   "cell_type": "code",
   "execution_count": 3,
   "metadata": {},
   "outputs": [],
   "source": [
    "def duration_in_mins(datum, city):\n",
    "    \"\"\"\n",
    "    Takes as input a dictionary containing info about a single trip (datum) and\n",
    "    its origin city (city) and returns the trip duration in units of minutes.\n",
    "    \n",
    "    Washington is in terms of milliseconds while Chicago and NYC\n",
    "    are in terms of seconds. \n",
    "    \"\"\"\n",
    "    \n",
    "    # Convert the strings into an integer and apply teh transfomations\n",
    "    if city == 'Washington':\n",
    "        duration = int(datum['Duration (ms)'])/60000\n",
    "    else:\n",
    "        duration = int(datum['tripduration'])/60\n",
    "        \n",
    "    return duration\n",
    "\n",
    "\n",
    "# Some tests to check that the function works correctly. There should be no output if all of\n",
    "# the assertions pass. The `example_trips` dictionary was obtained from when\n",
    "# I printed the first trip from each of the original data files.\n",
    "tests = {'NYC': 13.9833,\n",
    "         'Chicago': 15.4333,\n",
    "         'Washington': 7.1231}\n",
    "\n",
    "for city in tests:\n",
    "    assert abs(duration_in_mins(example_trips[city], city) - tests[city]) < .001"
   ]
  },
  {
   "cell_type": "code",
   "execution_count": 4,
   "metadata": {},
   "outputs": [],
   "source": [
    "def time_of_trip(datum, city):\n",
    "    \"\"\"\n",
    "    Takes as input a dictionary containing info about a single trip (datum) and\n",
    "    its origin city (city) and returns the month, hour, and day of the week in\n",
    "    which the trip was made.\n",
    "    \n",
    "    NYC includes seconds, while Washington and Chicago do not.\n",
    "    \"\"\"\n",
    "\n",
    "    # Use datetime module to parse the original date strings\n",
    "    if city == 'NYC':\n",
    "        time = datetime.strptime(datum['starttime'], '%m/%d/%Y %H:%M:%S')\n",
    "    elif city == 'Chicago':\n",
    "        time = datetime.strptime(datum['starttime'], '%m/%d/%Y %H:%M')\n",
    "    elif city == 'Washington':\n",
    "        time = datetime.strptime(datum['Start date'], '%m/%d/%Y %H:%M')\n",
    "    \n",
    "    month = int(time.strftime('%m'))\n",
    "    hour = int(time.strftime('%H'))\n",
    "    day_of_week = time.strftime('%A')\n",
    "    \n",
    "    return (month, hour, day_of_week)\n",
    "\n",
    "\n",
    "# Some tests to check that the function works correctly. There should be no output if all of\n",
    "# the assertions pass. The `example_trips` dictionary was obtained from when\n",
    "# I printed the first trip from each of the original data files.\n",
    "tests = {'NYC': (1, 0, 'Friday'),\n",
    "         'Chicago': (3, 23, 'Thursday'),\n",
    "         'Washington': (3, 22, 'Thursday')}\n",
    "\n",
    "for city in tests:\n",
    "    assert time_of_trip(example_trips[city], city) == tests[city]"
   ]
  },
  {
   "cell_type": "code",
   "execution_count": 5,
   "metadata": {},
   "outputs": [],
   "source": [
    "def type_of_user(datum, city):\n",
    "    \"\"\"\n",
    "    Takes as input a dictionary containing info about a single trip (datum) and\n",
    "    its origin city (city) and returns the type of system user that made the\n",
    "    trip.\n",
    "    \n",
    "    Washington has different category names compared to Chicago\n",
    "    and NYC. \n",
    "    \"\"\"\n",
    "    \n",
    "    # Convert Washington user type stings\n",
    "    if city == 'Washington':\n",
    "        user_type = 'Subscriber' if datum['Member Type'] == 'Registered' else 'Customer'\n",
    "    else:\n",
    "        user_type = datum['usertype']\n",
    "        \n",
    "    return user_type\n",
    "\n",
    "\n",
    "# Some tests to check that the function works correctly. There should be no output if all of\n",
    "# the assertions pass. The `example_trips` dictionary was obtained from when\n",
    "# I printed the first trip from each of the original data files.\n",
    "tests = {'NYC': 'Customer',\n",
    "         'Chicago': 'Subscriber',\n",
    "         'Washington': 'Subscriber'}\n",
    "\n",
    "for city in tests:\n",
    "    assert type_of_user(example_trips[city], city) == tests[city]"
   ]
  },
  {
   "cell_type": "markdown",
   "metadata": {},
   "source": [
    "Now, I'm going to use the helper functions above to create a condensed data file for each city consisting only of the data fields indicated above."
   ]
  },
  {
   "cell_type": "code",
   "execution_count": 6,
   "metadata": {},
   "outputs": [],
   "source": [
    "def condense_data(in_file, out_file, city):\n",
    "    \"\"\"\n",
    "    This function takes full data from the specified input file\n",
    "    and writes the condensed data to a specified output file. The city\n",
    "    argument determines how the input file will be parsed.\n",
    "    \"\"\"\n",
    "    \n",
    "    with open(out_file, 'w') as f_out, open(in_file, 'r') as f_in:\n",
    "        # Set up csv DictWriter object - writer requires column names for the\n",
    "        # first row as the \"fieldnames\" argument\n",
    "        out_colnames = ['duration', 'month', 'hour', 'day_of_week', 'user_type']        \n",
    "        trip_writer = csv.DictWriter(f_out, fieldnames = out_colnames)\n",
    "        trip_writer.writeheader()\n",
    "        \n",
    "        # Set up csv DictReader object\n",
    "        trip_reader = csv.DictReader(f_in)\n",
    "\n",
    "        # Collect data from and process each row\n",
    "        for row in trip_reader:\n",
    "            # Set up a dictionary to hold the values for the cleaned and trimmed data point\n",
    "            new_point = {}\n",
    "\n",
    "            ## Use the helper functions to get the cleaned data from the original dictionaries\n",
    "            duration = duration_in_mins(row, city)\n",
    "            month, hour, day_of_week = time_of_trip(row, city)\n",
    "            user_type = type_of_user(row, city)\n",
    "            new_point = {'duration':duration, 'month':month, 'hour':hour, 'day_of_week':day_of_week, 'user_type':user_type}\n",
    "            \n",
    "            # Write the processed information to the output file\n",
    "            trip_writer.writerow(new_point)"
   ]
  },
  {
   "cell_type": "code",
   "execution_count": 7,
   "metadata": {},
   "outputs": [
    {
     "name": "stdout",
     "output_type": "stream",
     "text": [
      "\n",
      "City: Washington\n",
      "OrderedDict([('duration', '7.123116666666666'),\n",
      "             ('month', '3'),\n",
      "             ('hour', '22'),\n",
      "             ('day_of_week', 'Thursday'),\n",
      "             ('user_type', 'Subscriber')])\n",
      "\n",
      "City: Chicago\n",
      "OrderedDict([('duration', '15.433333333333334'),\n",
      "             ('month', '3'),\n",
      "             ('hour', '23'),\n",
      "             ('day_of_week', 'Thursday'),\n",
      "             ('user_type', 'Subscriber')])\n",
      "\n",
      "City: NYC\n",
      "OrderedDict([('duration', '13.983333333333333'),\n",
      "             ('month', '1'),\n",
      "             ('hour', '0'),\n",
      "             ('day_of_week', 'Friday'),\n",
      "             ('user_type', 'Customer')])\n"
     ]
    }
   ],
   "source": [
    "# Set the file names for each city\n",
    "city_info = {'Washington': {'in_file': './data/Washington-CapitalBikeshare-2016.csv',\n",
    "                            'out_file': './data/Washington-2016-Summary.csv'},\n",
    "             'Chicago': {'in_file': './data/Chicago-Divvy-2016.csv',\n",
    "                         'out_file': './data/Chicago-2016-Summary.csv'},\n",
    "             'NYC': {'in_file': './data/NYC-CitiBike-2016.csv',\n",
    "                     'out_file': './data/NYC-2016-Summary.csv'}}\n",
    "\n",
    "# Run the condense_data helper function on each city and print the first point to test it out\n",
    "for city, filenames in city_info.items():\n",
    "    condense_data(filenames['in_file'], filenames['out_file'], city)\n",
    "    print_first_point(filenames['out_file'])"
   ]
  },
  {
   "cell_type": "markdown",
   "metadata": {},
   "source": [
    "<a id='eda'></a>\n",
    "## Exploratory Data Analysis\n",
    "\n",
    "Now that data has been collected and wrangled, I'll start exploring the data. In this section I will write some code to compute descriptive statistics from the data. I will also be using the `matplotlib` library to create some basic histograms of the data.\n",
    "\n",
    "<a id='statistics'></a>\n",
    "### Statistics\n",
    "\n",
    "First, let's compute some basic counts. The first cell below contains a function that uses the csv module to iterate through a provided data file, returning the number of trips made by subscribers and customers. The second cell runs this function on the summary data that I created above."
   ]
  },
  {
   "cell_type": "code",
   "execution_count": 8,
   "metadata": {},
   "outputs": [],
   "source": [
    "def number_of_trips(filename):\n",
    "    \"\"\"\n",
    "    This function reads in a file with trip data and reports the number of\n",
    "    trips made by subscribers, customers, and total overall.\n",
    "    \"\"\"\n",
    "    with open(filename, 'r') as f_in:\n",
    "        # Set up csv reader object\n",
    "        reader = csv.DictReader(f_in)\n",
    "        \n",
    "        # Initialize count variables\n",
    "        n_subscribers = 0\n",
    "        n_customers = 0\n",
    "        \n",
    "        # Tally up ride types\n",
    "        for row in reader:\n",
    "            if row['user_type'] == 'Subscriber':\n",
    "                n_subscribers += 1\n",
    "            else:\n",
    "                n_customers += 1\n",
    "        \n",
    "        # Compute total number of rides\n",
    "        n_total = n_subscribers + n_customers\n",
    "        \n",
    "        # Return tallies as a tuple\n",
    "        return(n_subscribers, n_customers, n_total)"
   ]
  },
  {
   "cell_type": "code",
   "execution_count": 9,
   "metadata": {},
   "outputs": [
    {
     "name": "stdout",
     "output_type": "stream",
     "text": [
      "Washington 66326 3.551293487957181\n",
      "Chicago 72131 3.2061344684821274\n",
      "NYC 276798 7.957284318167109\n"
     ]
    }
   ],
   "source": [
    "# Run the number_of_trips function on the summary data files\n",
    "city_info = {'Washington':'./data/Washington-2016-Summary.csv',\n",
    "             'Chicago':'./data/Chicago-2016-Summary.csv',\n",
    "             'NYC':'./data/NYC-2016-Summary.csv'}\n",
    "\n",
    "for city, filename in city_info.items():\n",
    "    n_subscribers, n_customers, n_total = number_of_trips(filename)\n",
    "    ratio = n_subscribers/n_customers\n",
    "    print(city, n_total, ratio)"
   ]
  },
  {
   "cell_type": "markdown",
   "metadata": {},
   "source": [
    "#### Answers for the first 3 questions:\n",
    "\n",
    "1. Which city has the highest number of trips?\n",
    "    - The city that has the highest number of trips is in NYC with 276798 trips\n",
    "2. Which city has the highest proportion of trips made by subscribers?\n",
    "    - The city that has the highest proportion of trips made by subscribers is NYC which is more than double the other cities\n",
    "3. Which city has the highest proportion of trips made by short-term customers?\n",
    "    - The city that has the highest proportion of trips made by short-term customers is Chicago\n",
    "    \n",
    "Bike-share systems are designed for riders to take short trips. Most of the time, users are allowed to take trips of 30 minutes or less with no additional charges, with overage charges made for trips of longer than that duration.  So now I'll explore the trip durations in each city."
   ]
  },
  {
   "cell_type": "code",
   "execution_count": 10,
   "metadata": {
    "scrolled": true
   },
   "outputs": [],
   "source": [
    "def trip_length(filename):\n",
    "    \"\"\"\n",
    "    This function reads in a file with trip data and reports the average trip length\n",
    "    and the proportion of rides made in each city are longer than 30 minutes.\n",
    "    \"\"\"\n",
    "    with open(filename, 'r') as f_in:\n",
    "        # Set up csv reader object\n",
    "        reader = csv.DictReader(f_in)\n",
    "        \n",
    "        # Initialize count variables\n",
    "        count = 0\n",
    "        total_length = 0\n",
    "        over_30 = 0\n",
    "        \n",
    "        # Tally up ride durations\n",
    "        for row in reader:\n",
    "            count += 1\n",
    "            duration = float(row['duration'])\n",
    "            total_length += duration\n",
    "            if duration > 30:\n",
    "                over_30 += 1\n",
    "        \n",
    "        # Compute the average trip length and proportion over 30\n",
    "        average_trip_length = round(total_length / count, 2)\n",
    "        proportion_over_30 = round((over_30 / count) * 100, 2)\n",
    "        \n",
    "        # Return tallies as a tuple\n",
    "        return(average_trip_length, proportion_over_30)"
   ]
  },
  {
   "cell_type": "code",
   "execution_count": 11,
   "metadata": {},
   "outputs": [
    {
     "name": "stdout",
     "output_type": "stream",
     "text": [
      "For Washington the average trip length is 18.93 minutes and 10.84% of trips are longer than 30 minutes\n",
      "For Chicago the average trip length is 16.56 minutes and 8.33% of trips are longer than 30 minutes\n",
      "For NYC the average trip length is 15.81 minutes and 7.3% of trips are longer than 30 minutes\n"
     ]
    }
   ],
   "source": [
    "# Run the trip_length function on the summary data files\n",
    "city_info = {'Washington':'./data/Washington-2016-Summary.csv',\n",
    "             'Chicago':'./data/Chicago-2016-Summary.csv',\n",
    "             'NYC':'./data/NYC-2016-Summary.csv'}\n",
    "\n",
    "for city, filename in city_info.items():\n",
    "    average_trip_length, proportion_over_30 = trip_length(filename)\n",
    "    print('For {0} the average trip length is {1} minutes and {2}% of trips are longer than 30 minutes'.format(city, average_trip_length, proportion_over_30))"
   ]
  },
  {
   "cell_type": "markdown",
   "metadata": {},
   "source": [
    "#### Answers for questions 4 and 5:\n",
    "\n",
    "4. What is the average trip length for each city? and 5. What proportion of rides made in each city are longer than 30 minutes?\n",
    "    - For Washington the average trip length is 18.93 minutes and 10.84% of trips are longer than 30 minutes\n",
    "    - For Chicago the average trip length is 16.56 minutes and 8.33% of trips are longer than 30 minutes\n",
    "    - For NYC the average trip length is 15.81 minutes and 7.3% of trips are longer than 30 minutes"
   ]
  },
  {
   "cell_type": "markdown",
   "metadata": {},
   "source": [
    "Digging deeper into the question of trip duration based on ridership. I choose NYC to explore which type of user takes longer rides on average: Subscribers or Customers?"
   ]
  },
  {
   "cell_type": "code",
   "execution_count": 12,
   "metadata": {},
   "outputs": [],
   "source": [
    "def average_trips_duration(filename):\n",
    "    \"\"\"\n",
    "    This function reads in a file with trip data and reports the average\n",
    "    trip duration made by subscribers, and customers.\n",
    "    \"\"\"\n",
    "    with open(filename, 'r') as f_in:\n",
    "        # Set up csv reader object\n",
    "        reader = csv.DictReader(f_in)\n",
    "        \n",
    "        # Initialize count and duration variables\n",
    "        n_subscribers = 0\n",
    "        d_subscribers = 0\n",
    "        n_customers = 0\n",
    "        d_customers = 0\n",
    "        \n",
    "        # Tally up ride types with duration\n",
    "        for row in reader:\n",
    "            duration = float(row['duration'])\n",
    "            if row['user_type'] == 'Subscriber':\n",
    "                n_subscribers += 1\n",
    "                d_subscribers += duration\n",
    "            else:\n",
    "                n_customers += 1\n",
    "                d_customers += duration\n",
    "        \n",
    "        # Compute average duration of rides\n",
    "        average_d_subscribers = round(d_subscribers / n_subscribers,2)\n",
    "        average_d_customers = round(d_customers / n_customers,2)\n",
    "        \n",
    "        # Return tallies as a tuple\n",
    "        return(average_d_subscribers, average_d_customers)"
   ]
  },
  {
   "cell_type": "code",
   "execution_count": 13,
   "metadata": {},
   "outputs": [
    {
     "name": "stdout",
     "output_type": "stream",
     "text": [
      "For NYC the average Subscriber trip duration is 13.68 minutes while the average Customer trip duration is 32.78 minutes.\n"
     ]
    }
   ],
   "source": [
    "# Run the average_trips_duration function on the summary data files for NYC\n",
    "NYC_data_file = './data/NYC-2016-Summary.csv'\n",
    "average_d_subscribers, average_d_customers = average_trips_duration(NYC_data_file)\n",
    "print('For NYC the average Subscriber trip duration is {0} minutes while the average Customer trip duration is {1} minutes.'.format(average_d_subscribers, average_d_customers))"
   ]
  },
  {
   "cell_type": "markdown",
   "metadata": {},
   "source": [
    "#### Answer: \n",
    "For NYC the average Subscriber trip duration is 13.68 minutes while the average Customer trip duration is 32.78 minutes."
   ]
  },
  {
   "cell_type": "markdown",
   "metadata": {},
   "source": [
    "<a id='visualizations'></a>\n",
    "### Visualizations\n",
    "\n",
    "While the mean trip time for Subscribers is well under 30 minutes, the mean trip time for Customers is actually _above_ 30 minutes! It will be interesting to look at how the trip times are distributed. In order to do this, I'll use the `matplotlib` library to generate the plots. As a first step I won't separate the Subscribers and Customers."
   ]
  },
  {
   "cell_type": "code",
   "execution_count": 14,
   "metadata": {},
   "outputs": [],
   "source": [
    "# Load library\n",
    "import matplotlib.pyplot as plt\n",
    "\n",
    "# Display plots inline with the notebook\n",
    "%matplotlib inline "
   ]
  },
  {
   "cell_type": "code",
   "execution_count": 15,
   "metadata": {},
   "outputs": [],
   "source": [
    "def list_trips_duration(filename, user_type='Both'):\n",
    "    \"\"\"\n",
    "    This function reads in a file with trip data and returns a list of \n",
    "    trip durations based on the user type.\n",
    "    \"\"\"\n",
    "    with open(filename, 'r') as f_in:\n",
    "        # set up csv reader object\n",
    "        reader = csv.DictReader(f_in)\n",
    "        \n",
    "        # Initialize count variables\n",
    "        durations = []\n",
    "        \n",
    "        # Tally up ride durations\n",
    "        for row in reader:\n",
    "            if user_type == 'Both':\n",
    "                durations.append(float(row['duration']))\n",
    "            elif user_type == row['user_type']:\n",
    "                durations.append(float(row['duration']))\n",
    "        \n",
    "        # Return the durations list\n",
    "        return durations"
   ]
  },
  {
   "cell_type": "markdown",
   "metadata": {},
   "source": [
    "In the below cell, we ran the function to generate the list of trip durations, and passed this list as the first argument to the `.hist()` function. This function performs the computations and creates plotting objects for generating a histogram, but the plot is actually not rendered until the `.show()` function is executed. The `.title()` and `.xlabel()` functions provide some labeling for plot context."
   ]
  },
  {
   "cell_type": "code",
   "execution_count": 16,
   "metadata": {},
   "outputs": [
    {
     "data": {
      "image/png": "[encoded data removed]",
      "text/plain": [
       "<Figure size 432x288 with 1 Axes>"
      ]
     },
     "metadata": {
      "needs_background": "light"
     },
     "output_type": "display_data"
    }
   ],
   "source": [
    "# Use pyplot functions to generate a histogram of the trip times\n",
    "plt.hist(list_trips_duration(NYC_data_file), color='#2196F3')\n",
    "plt.title('Distribution of Trip Durations')\n",
    "plt.xlabel('Duration (m)')\n",
    "plt.show()"
   ]
  },
  {
   "cell_type": "markdown",
   "metadata": {},
   "source": [
    "The plot consists of one extremely tall bar on the left, maybe a very short second bar, and a whole lot of empty space in the center and right. Take a look at the duration values on the x-axis. This suggests that there are some highly infrequent outliers in the data. Instead of reprocessing the data, I will use additional parameters with the `.hist()` function to limit the range of data that is plotted.\n",
    "\n",
    "Also in the next plots I'll separate the Subscribers and Customers and limit the plots so that only trips of duration less than 75 minutes are plotted in five-minute wide intervals."
   ]
  },
  {
   "cell_type": "code",
   "execution_count": 17,
   "metadata": {},
   "outputs": [
    {
     "data": {
      "image/png": "[encoded data removed]",
      "text/plain": [
       "<Figure size 432x288 with 1 Axes>"
      ]
     },
     "metadata": {
      "needs_background": "light"
     },
     "output_type": "display_data"
    },
    {
     "data": {
      "image/png": "[encoded data removed]",
      "text/plain": [
       "<Figure size 432x288 with 1 Axes>"
      ]
     },
     "metadata": {
      "needs_background": "light"
     },
     "output_type": "display_data"
    }
   ],
   "source": [
    "# Use pyplot functions to generate histograms of the trip times\n",
    "plt.hist(list_trips_duration(NYC_data_file, 'Subscriber'),range=(0,75),bins=15, color='#2196F3')\n",
    "plt.title('Distribution of Subscribers Trip Durations')\n",
    "plt.xlabel('Duration (m)')\n",
    "plt.show()\n",
    "\n",
    "plt.hist(list_trips_duration(NYC_data_file, 'Customer'),range=(0,75),bins=15, color='#2196F3')\n",
    "plt.title('Distribution of Customers Trip Durations')\n",
    "plt.xlabel('Duration (m)')\n",
    "plt.show()"
   ]
  },
  {
   "cell_type": "markdown",
   "metadata": {
    "collapsed": true
   },
   "source": [
    "#### Observation:\n",
    "In NYC the peak of the Subscribers distribution is between 5 and 10 minutes, while the peak of the Customers distribution is between 20 and 25 mintues. Both distributions have a right-skewed bell shape curve.\n",
    "\n",
    "So far, I've performed an initial exploration into the data available. I have compared the relative volume of trips made between three U.S. cities and the ratio of trips made by Subscribers and Customers. For one of these NYC, I have investigated differences between Subscribers and Customers in terms of how long a typical trip lasts. Now I'll further explore NYC to see if the pattern of ridership is different on the weekends versus weekdays? And if it is affected by the user types?"
   ]
  },
  {
   "cell_type": "code",
   "execution_count": 18,
   "metadata": {},
   "outputs": [],
   "source": [
    "def daily_trips_duration_count(filename, user_type='Both'):\n",
    "    \"\"\"\n",
    "    This function reads in a file with trip data and returns a Dictionary\n",
    "    of the durations and number of trips for each day of the week based on\n",
    "    the user type(s) selected.\n",
    "    \"\"\"\n",
    "    with open(filename, 'r') as f_in:\n",
    "        # set up csv reader object\n",
    "        reader = csv.DictReader(f_in)\n",
    "        \n",
    "        # initialize count variables\n",
    "        durations = {'Monday':0, 'Tuesday':0, 'Wednesday':0, 'Thursday':0, 'Friday':0, 'Saturday':0, 'Sunday':0}\n",
    "        counts = {'Monday':0, 'Tuesday':0, 'Wednesday':0, 'Thursday':0, 'Friday':0, 'Saturday':0, 'Sunday':0}\n",
    "        \n",
    "        # tally up ride durations\n",
    "        for row in reader:\n",
    "            if user_type == 'Both':\n",
    "                durations[row['day_of_week']] = durations[row['day_of_week']] + float(row['duration'])\n",
    "                counts[row['day_of_week']] += 1\n",
    "            elif user_type == row['user_type']:\n",
    "                durations[row['day_of_week']] = durations[row['day_of_week']] + float(row['duration'])\n",
    "                counts[row['day_of_week']] += 1\n",
    "\n",
    "        # return the durations and count Dictionary\n",
    "        return {k: (durations[k], counts[k]) for k in durations.keys() & counts.keys()}"
   ]
  },
  {
   "cell_type": "code",
   "execution_count": 19,
   "metadata": {},
   "outputs": [
    {
     "data": {
      "image/png": "[encoded data removed]",
      "text/plain": [
       "<Figure size 432x288 with 1 Axes>"
      ]
     },
     "metadata": {
      "needs_background": "light"
     },
     "output_type": "display_data"
    },
    {
     "data": {
      "image/png": "[encoded data removed]",
      "text/plain": [
       "<Figure size 432x288 with 1 Axes>"
      ]
     },
     "metadata": {
      "needs_background": "light"
     },
     "output_type": "display_data"
    },
    {
     "name": "stdout",
     "output_type": "stream",
     "text": [
      "[[ 1.         -0.97387795]\n",
      " [-0.97387795  1.        ]]\n"
     ]
    }
   ],
   "source": [
    "# Import numpy module\n",
    "import numpy as np\n",
    "\n",
    "# Get daily average trips durations and count for each type of user\n",
    "cutomer_trips = daily_trips_duration_count(NYC_data_file, 'Customer')\n",
    "subscriber_trips = daily_trips_duration_count(NYC_data_file, 'Subscriber')\n",
    "\n",
    "# Set number of groups for each day of the week\n",
    "n_groups = 7\n",
    "\n",
    "# Calculate the average trips durations for each type of user per day\n",
    "cutomer_average_trips_durations = [cutomer_trips[k][0]/cutomer_trips[k][1] for k in cutomer_trips.keys()]\n",
    "subscriber_average_trips_durations = [subscriber_trips[k][0]/subscriber_trips[k][1] for k in subscriber_trips.keys()]\n",
    "\n",
    "fig, ax = plt.subplots()\n",
    "\n",
    "# Set bar plots settings\n",
    "index = np.arange(n_groups)\n",
    "bar_width = 0.4\n",
    "\n",
    "# Plot the bar plots in the same plot\n",
    "rects1 = ax.bar(index, cutomer_average_trips_durations,\n",
    "                bar_width, color='#2196F3', label='Customer')\n",
    "\n",
    "rects2 = ax.bar(index + bar_width, subscriber_average_trips_durations,\n",
    "                bar_width, color='#673AB7', label='Subscriber')\n",
    "\n",
    "ax.set_xlabel('Day of the week')\n",
    "ax.set_ylabel('Average trip duration in minutes')\n",
    "ax.set_title('NYC daily average trip durations by user type')\n",
    "ax.set_xticks(index + bar_width / 2)\n",
    "ax.set_xticklabels(('Monday', 'Tuesday', 'Wednesday', 'Thursday', 'Friday', 'Saturday', 'Sunday'))\n",
    "ax.legend()\n",
    "\n",
    "fig.tight_layout(pad=0.01)\n",
    "plt.show()\n",
    "\n",
    "# Calculate the number of trips for each type of user per day\n",
    "cutomer_trips_count = [cutomer_trips[k][1] for k in cutomer_trips.keys()]\n",
    "subscriber_trips_count = [subscriber_trips[k][1] for k in subscriber_trips.keys()]\n",
    "\n",
    "fig, ax = plt.subplots()\n",
    "\n",
    "# Plot the bar plots in the same plot\n",
    "rects1 = ax.bar(index, cutomer_trips_count,\n",
    "                bar_width, color='#2196F3', label='Customer')\n",
    "\n",
    "rects2 = ax.bar(index + bar_width, subscriber_trips_count,\n",
    "                bar_width, color='#673AB7', label='Subscriber')\n",
    "\n",
    "ax.set_xlabel('Day of the week')\n",
    "ax.set_ylabel('Number of trips')\n",
    "ax.set_title('NYC daily number of trips by user type')\n",
    "ax.set_xticks(index + bar_width / 2)\n",
    "ax.set_xticklabels(('Monday', 'Tuesday', 'Wednesday', 'Thursday', 'Friday', 'Saturday', 'Sunday'))\n",
    "ax.legend()\n",
    "\n",
    "fig.tight_layout(pad=0.01)\n",
    "plt.show()\n",
    "\n",
    "# Calculate and print the correaltion coefficient between the number of trips of different user types\n",
    "print(np.corrcoef(cutomer_trips_count, subscriber_trips_count))"
   ]
  },
  {
   "cell_type": "markdown",
   "metadata": {},
   "source": [
    "#### Observations:\n",
    "- From the 'NYC daily average trip durations by user type' chart it is quite clear that even though the there is no significant variation between the average trip durations in relation to different days of the week, there is a huge difference between the average of each user type.\n",
    "\n",
    "- After further investigation from the 'NYC daily number of trips by user type' chart, even though the average trip duration did not decease for both user types, there are some variations in the number of trips.\n",
    "\n",
    "- After visually inspecting the pattern of variations in the number of trips from the bar chart, I had the feeling that there is a correlation between the changes in trip numbers between the user types. After calculating the correlation coefficient, it shows that there is a high negative correlation between the 2 user types (-0.97387795)."
   ]
  },
  {
   "cell_type": "markdown",
   "metadata": {},
   "source": [
    "<a id='future_enhancments'></a>\n",
    "## Future Enhancments\n",
    "\n",
    "- Using Pandas module to enhance the workflow and avoid reloding the data from CSV files, this will also be much more efficient.\n",
    "- Further investigation will be needed to understand the correlation. \n",
    "- Another pattern that might be worth exploring is the significant variations from the average on Thursdays and Sundays.\n",
    "- Performing a statistical test or fitting the data to a model for making predictions.\n",
    "- There are also a lot of potential analyses that could be performed on the data which are not possible with only the data provided. For example, detailed location data has not been investigated. Where are the most commonly used docks? What are the most common routes? As another example, weather has potential to have a large impact on daily ridership. How much is ridership impacted when there is rain or snow? Are subscribers or customers affected more by changes in weather?"
   ]
  }
 ],
 "metadata": {
  "anaconda-cloud": {},
  "kernelspec": {
   "display_name": "Python 3",
   "language": "python",
   "name": "python3"
  },
  "language_info": {
   "codemirror_mode": {
    "name": "ipython",
    "version": 3
   },
   "file_extension": ".py",
   "mimetype": "text/x-python",
   "name": "python",
   "nbconvert_exporter": "python",
   "pygments_lexer": "ipython3",
   "version": "3.7.1"
  }
 },
 "nbformat": 4,
 "nbformat_minor": 1
}
